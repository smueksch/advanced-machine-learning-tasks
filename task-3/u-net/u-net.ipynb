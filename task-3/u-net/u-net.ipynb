{
 "cells": [
  {
   "cell_type": "code",
   "execution_count": 45,
   "metadata": {},
   "outputs": [
    {
     "name": "stdout",
     "output_type": "stream",
     "text": [
      "Epoch 70:   0%|          | 0/1 [11:38:50<?, ?it/s, loss=0.317, v_num=23]\n"
     ]
    },
    {
     "name": "stderr",
     "output_type": "stream",
     "text": [
      "Global seed set to 42\n"
     ]
    },
    {
     "data": {
      "text/plain": [
       "42"
      ]
     },
     "execution_count": 45,
     "metadata": {},
     "output_type": "execute_result"
    }
   ],
   "source": [
    "import os\n",
    "import sys\n",
    "sys.path.append(os.path.join(os.pardir, os.pardir))\n",
    "\n",
    "import math\n",
    "import random\n",
    "\n",
    "import numpy as np\n",
    "\n",
    "import torch\n",
    "import torch.nn as nn\n",
    "import torch.nn.functional as F\n",
    "from torch.utils.data import TensorDataset, DataLoader\n",
    "import torchvision.transforms.functional as F_transforms\n",
    "import torchinfo\n",
    "\n",
    "import pytorch_lightning as pl\n",
    "from pytorch_lightning.callbacks.early_stopping import EarlyStopping\n",
    "\n",
    "from amlutils.task3 import UNet, load_zipped_pickle, visualize_segmentation\n",
    "\n",
    "RANDOM_SEED = 42\n",
    "\n",
    "random.seed(RANDOM_SEED)\n",
    "np.random.seed(RANDOM_SEED)\n",
    "torch.manual_seed(RANDOM_SEED)\n",
    "pl.seed_everything(RANDOM_SEED, workers=True)"
   ]
  },
  {
   "cell_type": "code",
   "execution_count": 46,
   "metadata": {},
   "outputs": [],
   "source": [
    "# CHANGE DIRECTORY\n",
    "data_dir = os.path.join(os.pardir, 'data')"
   ]
  },
  {
   "cell_type": "markdown",
   "metadata": {},
   "source": [
    "# Segment Image"
   ]
  },
  {
   "cell_type": "code",
   "execution_count": null,
   "metadata": {},
   "outputs": [],
   "source": [
    "image = convert_to_tensor(train_set[0]['Image'])\n",
    "image = torch.unsqueeze(image, 0)\n",
    "segmentation = mv_segmenter(image)\n",
    "segmentation = torch.squeeze(segmentation)\n",
    "segmentation.shape"
   ]
  },
  {
   "cell_type": "code",
   "execution_count": null,
   "metadata": {},
   "outputs": [],
   "source": [
    "prediction = F.softmax(segmentation, dim=0)\n",
    "print(prediction.shape)\n",
    "prediction = torch.max(prediction, dim=0).indices\n",
    "prediction = torch.squeeze(prediction)#.detach().numpy()\n",
    "#prediction = prediction[0,:,:].detach().numpy()\n",
    "prediction"
   ]
  },
  {
   "cell_type": "code",
   "execution_count": null,
   "metadata": {},
   "outputs": [],
   "source": [
    "prediction = F.softmax(segmentation, dim=0)\n",
    "print(torch.min(prediction[0,:,:]))\n",
    "prediction = torch.round(prediction[1,:,:]).detach().numpy()\n",
    "np.max(prediction)"
   ]
  },
  {
   "cell_type": "code",
   "execution_count": null,
   "metadata": {},
   "outputs": [],
   "source": [
    "prediction = F.softmax(segmentation, dim=0)\n",
    "prediction = torch.where(prediction[1,:,:] > 0.29, torch.ones(prediction.shape[1:]), torch.zeros(prediction.shape[1:])).numpy()\n",
    "prediction"
   ]
  },
  {
   "cell_type": "code",
   "execution_count": null,
   "metadata": {},
   "outputs": [],
   "source": [
    "fig, ax = plt.subplots(1, 2, figsize=(12, 6))\n",
    "fig.set_facecolor('white')\n",
    "\n",
    "cropped_image = F_transforms.center_crop(image, prediction.shape[1:])\n",
    "cropped_label = F_transforms.center_crop(torch.tensor(train_set[0]['Label']), prediction.shape[1:]).numpy()\n",
    "cropped_image = torch.squeeze(cropped_image)\n",
    "cropped_image = torch.squeeze(cropped_image).numpy()\n",
    "\n",
    "visualize_segmentation(ax[0], cropped_image, prediction, segmentation_opacity=0.5)\n",
    "ax[0].set_title('U-Net Predicted Segmentation (P[Is MV]>0.29)')\n",
    "\n",
    "visualize_segmentation(ax[1], cropped_image, cropped_label, segmentation_opacity=0.5)\n",
    "ax[1].set_title('Ground Truth')\n",
    "\n",
    "plt.tight_layout()\n",
    "plt.show()"
   ]
  },
  {
   "cell_type": "markdown",
   "metadata": {},
   "source": [
    "# Inspect Training Set"
   ]
  },
  {
   "cell_type": "code",
   "execution_count": null,
   "metadata": {},
   "outputs": [],
   "source": [
    "train_set = load_zipped_pickle(os.path.join(data_dir, 'labeled-images.pkl'))"
   ]
  },
  {
   "cell_type": "code",
   "execution_count": null,
   "metadata": {},
   "outputs": [],
   "source": [
    "visualize_segmentation(train_set[0]['Image'], train_set[0]['Label'])"
   ]
  },
  {
   "cell_type": "code",
   "execution_count": null,
   "metadata": {},
   "outputs": [],
   "source": [
    "train_input = torch.from_numpy(train_set[0]['Image'])\n",
    "train_input = torch.unsqueeze(train_input, 0)\n",
    "torchinfo.summary(UNet(), input_size=(1, *train_input.shape))"
   ]
  },
  {
   "cell_type": "code",
   "execution_count": null,
   "metadata": {},
   "outputs": [],
   "source": [
    "visualize_segmentation(\n",
    "    F_transforms.center_crop(torch.from_numpy(train_set[0]['Image']), prediction.shape).numpy(),\n",
    "    F_transforms.center_crop(torch.from_numpy(train_set[0]['Label']), prediction.shape).numpy()\n",
    ")"
   ]
  },
  {
   "cell_type": "code",
   "execution_count": null,
   "metadata": {},
   "outputs": [],
   "source": [
    "tens = F_transforms.center_crop(torch.from_numpy(train_set[0]['Image']), (60, 60))\n",
    "#torch.stack([tens, tens], dim=2).shape\n",
    "tens = torch.unsqueeze(tens, dim=2)\n",
    "torch.concat([tens, tens], dim=2).shape"
   ]
  }
 ],
 "metadata": {
  "interpreter": {
   "hash": "949777d72b0d2535278d3dc13498b2535136f6dfe0678499012e853ee9abcab1"
  },
  "kernelspec": {
   "display_name": "Python 3.9.9 64-bit",
   "language": "python",
   "name": "python3"
  },
  "language_info": {
   "codemirror_mode": {
    "name": "ipython",
    "version": 3
   },
   "file_extension": ".py",
   "mimetype": "text/x-python",
   "name": "python",
   "nbconvert_exporter": "python",
   "pygments_lexer": "ipython3",
   "version": "3.9.9"
  },
  "orig_nbformat": 4
 },
 "nbformat": 4,
 "nbformat_minor": 2
}
